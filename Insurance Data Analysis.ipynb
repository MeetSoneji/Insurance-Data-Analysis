{
 "cells": [
  {
   "cell_type": "markdown",
   "id": "5bc5d9fe",
   "metadata": {},
   "source": [
    "EDA of the data set"
   ]
  },
  {
   "cell_type": "code",
   "execution_count": 104,
   "id": "68fb40d0",
   "metadata": {},
   "outputs": [],
   "source": [
    "import pandas as pd\n",
    "import numpy as np \n",
    "import matplotlib.pyplot as plt\n",
    "import seaborn as sns\n",
    "import scipy.stats as stats\n",
    "from statsmodels.formula.api import ols\n",
    "from statsmodels.stats.anova import anova_lm\n",
    "from statsmodels.stats.proportion import proportions_ztest"
   ]
  },
  {
   "cell_type": "code",
   "execution_count": 8,
   "id": "15ddc974",
   "metadata": {},
   "outputs": [
    {
     "data": {
      "text/html": [
       "<div>\n",
       "<style scoped>\n",
       "    .dataframe tbody tr th:only-of-type {\n",
       "        vertical-align: middle;\n",
       "    }\n",
       "\n",
       "    .dataframe tbody tr th {\n",
       "        vertical-align: top;\n",
       "    }\n",
       "\n",
       "    .dataframe thead th {\n",
       "        text-align: right;\n",
       "    }\n",
       "</style>\n",
       "<table border=\"1\" class=\"dataframe\">\n",
       "  <thead>\n",
       "    <tr style=\"text-align: right;\">\n",
       "      <th></th>\n",
       "      <th>age</th>\n",
       "      <th>sex</th>\n",
       "      <th>bmi</th>\n",
       "      <th>children</th>\n",
       "      <th>smoker</th>\n",
       "      <th>region</th>\n",
       "      <th>charges</th>\n",
       "    </tr>\n",
       "  </thead>\n",
       "  <tbody>\n",
       "    <tr>\n",
       "      <th>0</th>\n",
       "      <td>19</td>\n",
       "      <td>female</td>\n",
       "      <td>27.900</td>\n",
       "      <td>0</td>\n",
       "      <td>yes</td>\n",
       "      <td>southwest</td>\n",
       "      <td>16884.92400</td>\n",
       "    </tr>\n",
       "    <tr>\n",
       "      <th>1</th>\n",
       "      <td>18</td>\n",
       "      <td>male</td>\n",
       "      <td>33.770</td>\n",
       "      <td>1</td>\n",
       "      <td>no</td>\n",
       "      <td>southeast</td>\n",
       "      <td>1725.55230</td>\n",
       "    </tr>\n",
       "    <tr>\n",
       "      <th>2</th>\n",
       "      <td>28</td>\n",
       "      <td>male</td>\n",
       "      <td>33.000</td>\n",
       "      <td>3</td>\n",
       "      <td>no</td>\n",
       "      <td>southeast</td>\n",
       "      <td>4449.46200</td>\n",
       "    </tr>\n",
       "    <tr>\n",
       "      <th>3</th>\n",
       "      <td>33</td>\n",
       "      <td>male</td>\n",
       "      <td>22.705</td>\n",
       "      <td>0</td>\n",
       "      <td>no</td>\n",
       "      <td>northwest</td>\n",
       "      <td>21984.47061</td>\n",
       "    </tr>\n",
       "    <tr>\n",
       "      <th>4</th>\n",
       "      <td>32</td>\n",
       "      <td>male</td>\n",
       "      <td>28.880</td>\n",
       "      <td>0</td>\n",
       "      <td>no</td>\n",
       "      <td>northwest</td>\n",
       "      <td>3866.85520</td>\n",
       "    </tr>\n",
       "  </tbody>\n",
       "</table>\n",
       "</div>"
      ],
      "text/plain": [
       "   age     sex     bmi  children smoker     region      charges\n",
       "0   19  female  27.900         0    yes  southwest  16884.92400\n",
       "1   18    male  33.770         1     no  southeast   1725.55230\n",
       "2   28    male  33.000         3     no  southeast   4449.46200\n",
       "3   33    male  22.705         0     no  northwest  21984.47061\n",
       "4   32    male  28.880         0     no  northwest   3866.85520"
      ]
     },
     "execution_count": 8,
     "metadata": {},
     "output_type": "execute_result"
    }
   ],
   "source": [
    "# Reading the data\n",
    "data=pd.read_csv('insurance.csv')\n",
    "data.head()"
   ]
  },
  {
   "cell_type": "code",
   "execution_count": 9,
   "id": "c71133b5",
   "metadata": {},
   "outputs": [
    {
     "data": {
      "text/plain": [
       "<bound method DataFrame.info of       age     sex     bmi  children smoker     region      charges\n",
       "0      19  female  27.900         0    yes  southwest  16884.92400\n",
       "1      18    male  33.770         1     no  southeast   1725.55230\n",
       "2      28    male  33.000         3     no  southeast   4449.46200\n",
       "3      33    male  22.705         0     no  northwest  21984.47061\n",
       "4      32    male  28.880         0     no  northwest   3866.85520\n",
       "...   ...     ...     ...       ...    ...        ...          ...\n",
       "1333   50    male  30.970         3     no  northwest  10600.54830\n",
       "1334   18  female  31.920         0     no  northeast   2205.98080\n",
       "1335   18  female  36.850         0     no  southeast   1629.83350\n",
       "1336   21  female  25.800         0     no  southwest   2007.94500\n",
       "1337   61  female  29.070         0    yes  northwest  29141.36030\n",
       "\n",
       "[1338 rows x 7 columns]>"
      ]
     },
     "execution_count": 9,
     "metadata": {},
     "output_type": "execute_result"
    }
   ],
   "source": [
    "data.info"
   ]
  },
  {
   "cell_type": "code",
   "execution_count": 11,
   "id": "b85452c4",
   "metadata": {},
   "outputs": [
    {
     "data": {
      "text/html": [
       "<div>\n",
       "<style scoped>\n",
       "    .dataframe tbody tr th:only-of-type {\n",
       "        vertical-align: middle;\n",
       "    }\n",
       "\n",
       "    .dataframe tbody tr th {\n",
       "        vertical-align: top;\n",
       "    }\n",
       "\n",
       "    .dataframe thead th {\n",
       "        text-align: right;\n",
       "    }\n",
       "</style>\n",
       "<table border=\"1\" class=\"dataframe\">\n",
       "  <thead>\n",
       "    <tr style=\"text-align: right;\">\n",
       "      <th></th>\n",
       "      <th>age</th>\n",
       "      <th>bmi</th>\n",
       "      <th>children</th>\n",
       "      <th>charges</th>\n",
       "    </tr>\n",
       "  </thead>\n",
       "  <tbody>\n",
       "    <tr>\n",
       "      <th>count</th>\n",
       "      <td>1338.000000</td>\n",
       "      <td>1338.000000</td>\n",
       "      <td>1338.000000</td>\n",
       "      <td>1338.000000</td>\n",
       "    </tr>\n",
       "    <tr>\n",
       "      <th>mean</th>\n",
       "      <td>39.207025</td>\n",
       "      <td>30.663397</td>\n",
       "      <td>1.094918</td>\n",
       "      <td>13270.422265</td>\n",
       "    </tr>\n",
       "    <tr>\n",
       "      <th>std</th>\n",
       "      <td>14.049960</td>\n",
       "      <td>6.098187</td>\n",
       "      <td>1.205493</td>\n",
       "      <td>12110.011237</td>\n",
       "    </tr>\n",
       "    <tr>\n",
       "      <th>min</th>\n",
       "      <td>18.000000</td>\n",
       "      <td>15.960000</td>\n",
       "      <td>0.000000</td>\n",
       "      <td>1121.873900</td>\n",
       "    </tr>\n",
       "    <tr>\n",
       "      <th>25%</th>\n",
       "      <td>27.000000</td>\n",
       "      <td>26.296250</td>\n",
       "      <td>0.000000</td>\n",
       "      <td>4740.287150</td>\n",
       "    </tr>\n",
       "    <tr>\n",
       "      <th>50%</th>\n",
       "      <td>39.000000</td>\n",
       "      <td>30.400000</td>\n",
       "      <td>1.000000</td>\n",
       "      <td>9382.033000</td>\n",
       "    </tr>\n",
       "    <tr>\n",
       "      <th>75%</th>\n",
       "      <td>51.000000</td>\n",
       "      <td>34.693750</td>\n",
       "      <td>2.000000</td>\n",
       "      <td>16639.912515</td>\n",
       "    </tr>\n",
       "    <tr>\n",
       "      <th>max</th>\n",
       "      <td>64.000000</td>\n",
       "      <td>53.130000</td>\n",
       "      <td>5.000000</td>\n",
       "      <td>63770.428010</td>\n",
       "    </tr>\n",
       "  </tbody>\n",
       "</table>\n",
       "</div>"
      ],
      "text/plain": [
       "               age          bmi     children       charges\n",
       "count  1338.000000  1338.000000  1338.000000   1338.000000\n",
       "mean     39.207025    30.663397     1.094918  13270.422265\n",
       "std      14.049960     6.098187     1.205493  12110.011237\n",
       "min      18.000000    15.960000     0.000000   1121.873900\n",
       "25%      27.000000    26.296250     0.000000   4740.287150\n",
       "50%      39.000000    30.400000     1.000000   9382.033000\n",
       "75%      51.000000    34.693750     2.000000  16639.912515\n",
       "max      64.000000    53.130000     5.000000  63770.428010"
      ]
     },
     "execution_count": 11,
     "metadata": {},
     "output_type": "execute_result"
    }
   ],
   "source": [
    "data.describe()"
   ]
  },
  {
   "cell_type": "markdown",
   "id": "5d716842",
   "metadata": {},
   "source": [
    "Hypothesis testing Objective:to prove (or disprove), with statistical evidence, that the BMI of females is different from that of males."
   ]
  },
  {
   "cell_type": "markdown",
   "id": "9a57d96a",
   "metadata": {},
   "source": [
    "Defining the Null Hypothesis: There is no difference between the bmi of male and female"
   ]
  },
  {
   "cell_type": "code",
   "execution_count": 15,
   "id": "da86475b",
   "metadata": {},
   "outputs": [],
   "source": [
    "female=data.loc[data.sex=='female']\n",
    "male=data.loc[data.sex=='male']\n",
    "f_bmi=female.bmi\n",
    "m_bmi=male.bmi"
   ]
  },
  {
   "cell_type": "code",
   "execution_count": 18,
   "id": "14ed4bf8",
   "metadata": {},
   "outputs": [
    {
     "name": "stdout",
     "output_type": "stream",
     "text": [
      "Mean of bmi of male is 30.94\n",
      "Mean of bmi of female is 30.38\n"
     ]
    }
   ],
   "source": [
    "# calculating the mean of the bmi\n",
    "bmi_male_mean=m_bmi.mean()\n",
    "bmi_female_mean=f_bmi.mean()\n",
    "print(\"Mean of bmi of male is\",round(bmi_male_mean,2))\n",
    "print(\"Mean of bmi of female is\",round(bmi_female_mean,2))"
   ]
  },
  {
   "cell_type": "code",
   "execution_count": 22,
   "id": "cea086b6",
   "metadata": {},
   "outputs": [
    {
     "name": "stderr",
     "output_type": "stream",
     "text": [
      "C:\\Users\\LENOVO\\AppData\\Local\\Temp\\ipykernel_16924\\1994206226.py:1: UserWarning: \n",
      "\n",
      "`distplot` is a deprecated function and will be removed in seaborn v0.14.0.\n",
      "\n",
      "Please adapt your code to use either `displot` (a figure-level function with\n",
      "similar flexibility) or `kdeplot` (an axes-level function for kernel density plots).\n",
      "\n",
      "For a guide to updating your code to use the new functions, please see\n",
      "https://gist.github.com/mwaskom/de44147ed2974457ad6372750bbe5751\n",
      "\n",
      "  sns.distplot(f_bmi,color='green',hist=False)\n",
      "C:\\Users\\LENOVO\\AppData\\Local\\Temp\\ipykernel_16924\\1994206226.py:2: UserWarning: \n",
      "\n",
      "`distplot` is a deprecated function and will be removed in seaborn v0.14.0.\n",
      "\n",
      "Please adapt your code to use either `displot` (a figure-level function with\n",
      "similar flexibility) or `kdeplot` (an axes-level function for kernel density plots).\n",
      "\n",
      "For a guide to updating your code to use the new functions, please see\n",
      "https://gist.github.com/mwaskom/de44147ed2974457ad6372750bbe5751\n",
      "\n",
      "  sns.distplot(m_bmi,color='red',hist=False)\n"
     ]
    },
    {
     "data": {
      "text/plain": [
       "<Axes: xlabel='bmi', ylabel='Density'>"
      ]
     },
     "execution_count": 22,
     "metadata": {},
     "output_type": "execute_result"
    },
    {
     "data": {
      "image/png": "[encoded data removed]",
      "text/plain": [
       "<Figure size 640x480 with 1 Axes>"
      ]
     },
     "metadata": {},
     "output_type": "display_data"
    }
   ],
   "source": [
    "sns.distplot(f_bmi,color='green',hist=False)\n",
    "sns.distplot(m_bmi,color='red',hist=False)"
   ]
  },
  {
   "cell_type": "code",
   "execution_count": 27,
   "id": "e9544734",
   "metadata": {},
   "outputs": [
    {
     "name": "stdout",
     "output_type": "stream",
     "text": [
      "t_value= 1.696752635752224\n",
      "p_value= 0.08997637178984932\n"
     ]
    }
   ],
   "source": [
    "# finding the t-value and the p-value for proving or disproving the null hypothesis\n",
    "alpha=0.05 #from confidence interval at 95%\n",
    "t_value,p_value=stats.ttest_ind(m_bmi,f_bmi)\n",
    "print(\"t_value=\",t_value)\n",
    "print(\"p_value=\",p_value)"
   ]
  },
  {
   "cell_type": "code",
   "execution_count": 28,
   "id": "05cd548d",
   "metadata": {},
   "outputs": [
    {
     "name": "stdout",
     "output_type": "stream",
     "text": [
      "We fail to reject the null Hypothesis that there is no difference between the bmi of male and female\n"
     ]
    }
   ],
   "source": [
    "if p_value < alpha:\n",
    "    print(\"We reject the null Hypothesis that there is no difference between the bmi of male and female\")\n",
    "else:\n",
    "    print(\"We fail to reject the null Hypothesis that there is no difference between the bmi of male and female\")"
   ]
  },
  {
   "cell_type": "markdown",
   "id": "7752acc6",
   "metadata": {},
   "source": [
    "Hypothesis testing Objective:  To prove (or disprove) that the medical claims made by the people who smoke are greater than those who don't."
   ]
  },
  {
   "cell_type": "markdown",
   "id": "693571d7",
   "metadata": {},
   "source": [
    "Defining\n",
    "Null Hypothesis: The average charges of Smoker are less or equal to the non-smoker\n",
    "Alternative Hypothesis: The average charges of Smoker are greater than non-smoker"
   ]
  },
  {
   "cell_type": "code",
   "execution_count": 32,
   "id": "0d516840",
   "metadata": {},
   "outputs": [
    {
     "data": {
      "text/plain": [
       "32050.232"
      ]
     },
     "execution_count": 32,
     "metadata": {},
     "output_type": "execute_result"
    }
   ],
   "source": [
    "# finding mean charges of the smoker \n",
    "smoker= data.loc[data.smoker=='yes']\n",
    "smoker_charges=smoker.charges\n",
    "smoker_charges_mean=smoker_charges.mean()\n",
    "round(smoker_charges_mean,3)"
   ]
  },
  {
   "cell_type": "code",
   "execution_count": 33,
   "id": "de6241d1",
   "metadata": {},
   "outputs": [
    {
     "data": {
      "text/plain": [
       "8434.268"
      ]
     },
     "execution_count": 33,
     "metadata": {},
     "output_type": "execute_result"
    }
   ],
   "source": [
    "# finding mean charges of the smoker \n",
    "nosmoker= data.loc[data.smoker=='no']\n",
    "nosmoker_charges=nosmoker.charges\n",
    "nosmoker_charges_mean=nosmoker_charges.mean()\n",
    "round(nosmoker_charges_mean,3)"
   ]
  },
  {
   "cell_type": "code",
   "execution_count": 37,
   "id": "efab5375",
   "metadata": {},
   "outputs": [
    {
     "data": {
      "text/plain": [
       "[Text(0.5, 1.0, 'Smoker vs Charges')]"
      ]
     },
     "execution_count": 37,
     "metadata": {},
     "output_type": "execute_result"
    },
    {
     "data": {
      "image/png": "[encoded data removed]",
      "text/plain": [
       "<Figure size 640x480 with 1 Axes>"
      ]
     },
     "metadata": {},
     "output_type": "display_data"
    }
   ],
   "source": [
    "# representing charges of the smoker==yes have more charges as compared to with smoker==no\n",
    "sns.boxplot(x=data.smoker,y=data.charges,data=data).set(title=\"Smoker vs Charges\")"
   ]
  },
  {
   "cell_type": "code",
   "execution_count": 43,
   "id": "54454d90",
   "metadata": {},
   "outputs": [
    {
     "name": "stdout",
     "output_type": "stream",
     "text": [
      "We reject the null Hypothesis that the average charges of Smoker are less or equal to the non-smoker\n"
     ]
    }
   ],
   "source": [
    "# Calculating the pValue for smoker vs non-Smoker\n",
    "alpha=0.05\n",
    "t_value1, p_value1 = stats.ttest_ind(smoker_charges, nosmoker_charges)\n",
    "if p_value1 < alpha:\n",
    "    print(\"We reject the null Hypothesis that the average charges of Smoker are less or equal to the non-smoker\")\n",
    "else:\n",
    "    print(\"We fail to reject the null Hypothesis that the average charges of Smoker are less or equal to the non-smoker\")"
   ]
  },
  {
   "cell_type": "markdown",
   "id": "5a5e091d",
   "metadata": {},
   "source": [
    "Hypothesis testing Objective:compare the BMI of women with no children, one child, and two children."
   ]
  },
  {
   "cell_type": "markdown",
   "id": "743e7cdd",
   "metadata": {},
   "source": [
    "Defining\n",
    "Null Hypothesis: The mean BMI of women with no children , one child, and two children are the same.\n",
    "Alternative Hypothesis: At least one of the means for women's BMI is not the same."
   ]
  },
  {
   "cell_type": "code",
   "execution_count": 46,
   "id": "e2fa403d",
   "metadata": {},
   "outputs": [
    {
     "data": {
      "text/html": [
       "<div>\n",
       "<style scoped>\n",
       "    .dataframe tbody tr th:only-of-type {\n",
       "        vertical-align: middle;\n",
       "    }\n",
       "\n",
       "    .dataframe tbody tr th {\n",
       "        vertical-align: top;\n",
       "    }\n",
       "\n",
       "    .dataframe thead th {\n",
       "        text-align: right;\n",
       "    }\n",
       "</style>\n",
       "<table border=\"1\" class=\"dataframe\">\n",
       "  <thead>\n",
       "    <tr style=\"text-align: right;\">\n",
       "      <th></th>\n",
       "      <th>age</th>\n",
       "      <th>sex</th>\n",
       "      <th>bmi</th>\n",
       "      <th>children</th>\n",
       "      <th>smoker</th>\n",
       "      <th>region</th>\n",
       "      <th>charges</th>\n",
       "    </tr>\n",
       "  </thead>\n",
       "  <tbody>\n",
       "    <tr>\n",
       "      <th>0</th>\n",
       "      <td>19</td>\n",
       "      <td>female</td>\n",
       "      <td>27.90</td>\n",
       "      <td>0</td>\n",
       "      <td>yes</td>\n",
       "      <td>southwest</td>\n",
       "      <td>16884.92400</td>\n",
       "    </tr>\n",
       "    <tr>\n",
       "      <th>5</th>\n",
       "      <td>31</td>\n",
       "      <td>female</td>\n",
       "      <td>25.74</td>\n",
       "      <td>0</td>\n",
       "      <td>no</td>\n",
       "      <td>southeast</td>\n",
       "      <td>3756.62160</td>\n",
       "    </tr>\n",
       "    <tr>\n",
       "      <th>6</th>\n",
       "      <td>46</td>\n",
       "      <td>female</td>\n",
       "      <td>33.44</td>\n",
       "      <td>1</td>\n",
       "      <td>no</td>\n",
       "      <td>southeast</td>\n",
       "      <td>8240.58960</td>\n",
       "    </tr>\n",
       "    <tr>\n",
       "      <th>9</th>\n",
       "      <td>60</td>\n",
       "      <td>female</td>\n",
       "      <td>25.84</td>\n",
       "      <td>0</td>\n",
       "      <td>no</td>\n",
       "      <td>northwest</td>\n",
       "      <td>28923.13692</td>\n",
       "    </tr>\n",
       "    <tr>\n",
       "      <th>11</th>\n",
       "      <td>62</td>\n",
       "      <td>female</td>\n",
       "      <td>26.29</td>\n",
       "      <td>0</td>\n",
       "      <td>yes</td>\n",
       "      <td>southeast</td>\n",
       "      <td>27808.72510</td>\n",
       "    </tr>\n",
       "    <tr>\n",
       "      <th>...</th>\n",
       "      <td>...</td>\n",
       "      <td>...</td>\n",
       "      <td>...</td>\n",
       "      <td>...</td>\n",
       "      <td>...</td>\n",
       "      <td>...</td>\n",
       "      <td>...</td>\n",
       "    </tr>\n",
       "    <tr>\n",
       "      <th>1331</th>\n",
       "      <td>23</td>\n",
       "      <td>female</td>\n",
       "      <td>33.40</td>\n",
       "      <td>0</td>\n",
       "      <td>no</td>\n",
       "      <td>southwest</td>\n",
       "      <td>10795.93733</td>\n",
       "    </tr>\n",
       "    <tr>\n",
       "      <th>1334</th>\n",
       "      <td>18</td>\n",
       "      <td>female</td>\n",
       "      <td>31.92</td>\n",
       "      <td>0</td>\n",
       "      <td>no</td>\n",
       "      <td>northeast</td>\n",
       "      <td>2205.98080</td>\n",
       "    </tr>\n",
       "    <tr>\n",
       "      <th>1335</th>\n",
       "      <td>18</td>\n",
       "      <td>female</td>\n",
       "      <td>36.85</td>\n",
       "      <td>0</td>\n",
       "      <td>no</td>\n",
       "      <td>southeast</td>\n",
       "      <td>1629.83350</td>\n",
       "    </tr>\n",
       "    <tr>\n",
       "      <th>1336</th>\n",
       "      <td>21</td>\n",
       "      <td>female</td>\n",
       "      <td>25.80</td>\n",
       "      <td>0</td>\n",
       "      <td>no</td>\n",
       "      <td>southwest</td>\n",
       "      <td>2007.94500</td>\n",
       "    </tr>\n",
       "    <tr>\n",
       "      <th>1337</th>\n",
       "      <td>61</td>\n",
       "      <td>female</td>\n",
       "      <td>29.07</td>\n",
       "      <td>0</td>\n",
       "      <td>yes</td>\n",
       "      <td>northwest</td>\n",
       "      <td>29141.36030</td>\n",
       "    </tr>\n",
       "  </tbody>\n",
       "</table>\n",
       "<p>566 rows × 7 columns</p>\n",
       "</div>"
      ],
      "text/plain": [
       "      age     sex    bmi  children smoker     region      charges\n",
       "0      19  female  27.90         0    yes  southwest  16884.92400\n",
       "5      31  female  25.74         0     no  southeast   3756.62160\n",
       "6      46  female  33.44         1     no  southeast   8240.58960\n",
       "9      60  female  25.84         0     no  northwest  28923.13692\n",
       "11     62  female  26.29         0    yes  southeast  27808.72510\n",
       "...   ...     ...    ...       ...    ...        ...          ...\n",
       "1331   23  female  33.40         0     no  southwest  10795.93733\n",
       "1334   18  female  31.92         0     no  northeast   2205.98080\n",
       "1335   18  female  36.85         0     no  southeast   1629.83350\n",
       "1336   21  female  25.80         0     no  southwest   2007.94500\n",
       "1337   61  female  29.07         0    yes  northwest  29141.36030\n",
       "\n",
       "[566 rows x 7 columns]"
      ]
     },
     "execution_count": 46,
     "metadata": {},
     "output_type": "execute_result"
    }
   ],
   "source": [
    "# selecting the femlale data with only less than or equal to 2children\n",
    "female_children=female.loc[female['children']<=2]\n",
    "female_children"
   ]
  },
  {
   "cell_type": "code",
   "execution_count": 65,
   "id": "4f96c490",
   "metadata": {},
   "outputs": [
    {
     "data": {
      "text/plain": [
       "children\n",
       "0    289\n",
       "1    158\n",
       "2    119\n",
       "Name: count, dtype: int64"
      ]
     },
     "execution_count": 65,
     "metadata": {},
     "output_type": "execute_result"
    }
   ],
   "source": [
    "female_children['children'].value_counts()"
   ]
  },
  {
   "cell_type": "code",
   "execution_count": 66,
   "id": "9c656d9e",
   "metadata": {},
   "outputs": [
    {
     "data": {
      "text/plain": [
       "children\n",
       "0    30.361522\n",
       "1    30.052658\n",
       "2    30.649790\n",
       "Name: bmi, dtype: float64"
      ]
     },
     "execution_count": 66,
     "metadata": {},
     "output_type": "execute_result"
    }
   ],
   "source": [
    "# Group by 'children' column and calculate the mean BMI\n",
    "\n",
    "result = female_children.groupby('children')['bmi'].mean()\n",
    "result"
   ]
  },
  {
   "cell_type": "code",
   "execution_count": 67,
   "id": "57b8b306",
   "metadata": {},
   "outputs": [
    {
     "data": {
      "image/png": "[encoded data removed]",
      "text/plain": [
       "<Figure size 640x480 with 1 Axes>"
      ]
     },
     "metadata": {},
     "output_type": "display_data"
    }
   ],
   "source": [
    "#  boxplots to visualize the difference in bmi values between these 3 groups\n",
    "sns.boxplot(x='children',y='bmi',data=female_children)\n",
    "plt.grid()\n",
    "plt.show()"
   ]
  },
  {
   "cell_type": "code",
   "execution_count": 80,
   "id": "f95f8bcb",
   "metadata": {},
   "outputs": [
    {
     "name": "stdout",
     "output_type": "stream",
     "text": [
      "P_Value=  0.7158579926754841\n",
      "We fail to reject the null Hypothesis that the mean BMI of women with no children , one child, and two children are the same\n"
     ]
    }
   ],
   "source": [
    "# performing the ANOVA test \n",
    "formula = 'bmi ~ C(children)'\n",
    "model = ols(formula, female_children).fit()\n",
    "aov_table = anova_lm(model)\n",
    "p_val=aov_table['PR(>F)']['C(children)']\n",
    "print(\"P_Value= \",p_val)\n",
    "\n",
    "if p_val < alpha:\n",
    "    print(\"We reject the null Hypothesis that the mean BMI of women with no children , one child, and two children are the same\")\n",
    "else:\n",
    "    print(\"We fail to reject the null Hypothesis that the mean BMI of women with no children , one child, and two children are the same\")"
   ]
  },
  {
   "cell_type": "markdown",
   "id": "0b262817",
   "metadata": {},
   "source": [
    "Hypothesis testing Objective:To determine if the proportion of smokers is significantly different across the different regions."
   ]
  },
  {
   "cell_type": "markdown",
   "id": "e787ce8e",
   "metadata": {},
   "source": [
    "Defining\n",
    "Null Hypothesis:  Smokers proportions are not significantly different across the different regions.\n",
    "Alternative Hypothesis: Smokers proportions are different across the different regions."
   ]
  },
  {
   "cell_type": "code",
   "execution_count": 81,
   "id": "7373d82f",
   "metadata": {},
   "outputs": [
    {
     "data": {
      "text/html": [
       "<div>\n",
       "<style scoped>\n",
       "    .dataframe tbody tr th:only-of-type {\n",
       "        vertical-align: middle;\n",
       "    }\n",
       "\n",
       "    .dataframe tbody tr th {\n",
       "        vertical-align: top;\n",
       "    }\n",
       "\n",
       "    .dataframe thead th {\n",
       "        text-align: right;\n",
       "    }\n",
       "</style>\n",
       "<table border=\"1\" class=\"dataframe\">\n",
       "  <thead>\n",
       "    <tr style=\"text-align: right;\">\n",
       "      <th>smoker</th>\n",
       "      <th>no</th>\n",
       "      <th>yes</th>\n",
       "    </tr>\n",
       "    <tr>\n",
       "      <th>region</th>\n",
       "      <th></th>\n",
       "      <th></th>\n",
       "    </tr>\n",
       "  </thead>\n",
       "  <tbody>\n",
       "    <tr>\n",
       "      <th>northeast</th>\n",
       "      <td>257</td>\n",
       "      <td>67</td>\n",
       "    </tr>\n",
       "    <tr>\n",
       "      <th>northwest</th>\n",
       "      <td>267</td>\n",
       "      <td>58</td>\n",
       "    </tr>\n",
       "    <tr>\n",
       "      <th>southeast</th>\n",
       "      <td>273</td>\n",
       "      <td>91</td>\n",
       "    </tr>\n",
       "    <tr>\n",
       "      <th>southwest</th>\n",
       "      <td>267</td>\n",
       "      <td>58</td>\n",
       "    </tr>\n",
       "  </tbody>\n",
       "</table>\n",
       "</div>"
      ],
      "text/plain": [
       "smoker      no  yes\n",
       "region             \n",
       "northeast  257   67\n",
       "northwest  267   58\n",
       "southeast  273   91\n",
       "southwest  267   58"
      ]
     },
     "execution_count": 81,
     "metadata": {},
     "output_type": "execute_result"
    }
   ],
   "source": [
    "# we will be using the chi-square test for this\n",
    "# to calculate the contingency table we will use the crosstable() from pandas\n",
    "contingency= pd.crosstab(data.region, data.smoker)\n",
    "contingency"
   ]
  },
  {
   "cell_type": "code",
   "execution_count": 86,
   "id": "c6853fc0",
   "metadata": {},
   "outputs": [
    {
     "data": {
      "text/plain": [
       "<Axes: xlabel='region'>"
      ]
     },
     "execution_count": 86,
     "metadata": {},
     "output_type": "execute_result"
    },
    {
     "data": {
      "image/png": "[encoded data removed]",
      "text/plain": [
       "<Figure size 640x480 with 1 Axes>"
      ]
     },
     "metadata": {},
     "output_type": "display_data"
    }
   ],
   "source": [
    " contingency.plot(kind='bar')"
   ]
  },
  {
   "cell_type": "code",
   "execution_count": 92,
   "id": "7777742d",
   "metadata": {},
   "outputs": [
    {
     "name": "stdout",
     "output_type": "stream",
     "text": [
      "chi-square statistic: 7.343477761407071 \n",
      "p_value: 0.06171954839170541\n",
      "degree of freedom: 3\n",
      "expected frequencies:\n",
      "[[257.65022422  66.34977578]\n",
      " [258.44544096  66.55455904]\n",
      " [289.45889387  74.54110613]\n",
      " [258.44544096  66.55455904]] \n"
     ]
    }
   ],
   "source": [
    "chi2, p_valu, dof, exp_freq =stats.chi2_contingency(contingency, correction = False)\n",
    "print('chi-square statistic: {} \\np_value: {}\\ndegree of freedom: {}\\nexpected frequencies:\\n{} '.format(chi2, p_valu, dof, exp_freq))"
   ]
  },
  {
   "cell_type": "code",
   "execution_count": 93,
   "id": "e94ed005",
   "metadata": {},
   "outputs": [
    {
     "name": "stdout",
     "output_type": "stream",
     "text": [
      "We fail to reject the null Hypothesis that the Smokers proportions are not significantly different across the different regions\n"
     ]
    }
   ],
   "source": [
    "if p_valu < alpha:\n",
    "    print(\"We reject the null Hypothesis that the Smokers proportions are not significantly different across the different regions\")\n",
    "else:\n",
    "    print(\"We fail to reject the null Hypothesis that the Smokers proportions are not significantly different across the different regions\")"
   ]
  },
  {
   "cell_type": "markdown",
   "id": "95f3eb85",
   "metadata": {},
   "source": [
    "Hypothesis testing Objective:To determine if there is a difference in proportion of male and female"
   ]
  },
  {
   "cell_type": "markdown",
   "id": "5945d939",
   "metadata": {},
   "source": [
    "Defining\n",
    "Null Hypothesis: No difference in proportion of males and females\n",
    "Alternative Hypothesis: Difference in proportion of males and females"
   ]
  },
  {
   "cell_type": "code",
   "execution_count": 98,
   "id": "d8448a5f",
   "metadata": {},
   "outputs": [
    {
     "name": "stdout",
     "output_type": "stream",
     "text": [
      "Male Count= 676\n",
      "Female Count= 662\n"
     ]
    }
   ],
   "source": [
    "# finding the male_count and female_count from the data set\n",
    "male_count=data['sex'].value_counts()['male']\n",
    "female_count=data['sex'].value_counts()['female']\n",
    "print('Male Count=',male_count)\n",
    "print('Female Count=',female_count)"
   ]
  },
  {
   "cell_type": "code",
   "execution_count": 100,
   "id": "1ac80069",
   "metadata": {},
   "outputs": [
    {
     "data": {
      "text/plain": [
       "array([0.50523169, 0.49476831])"
      ]
     },
     "execution_count": 100,
     "metadata": {},
     "output_type": "execute_result"
    }
   ],
   "source": [
    "# calculating the proportion of male and female\n",
    "total_count=male_count+female_count\n",
    "proportion=np.array([male_count,female_count]/total_count)\n",
    "proportion"
   ]
  },
  {
   "cell_type": "code",
   "execution_count": 107,
   "id": "0506ffd2",
   "metadata": {},
   "outputs": [
    {
     "data": {
      "image/png": "[encoded data removed]",
      "text/plain": [
       "<Figure size 640x480 with 1 Axes>"
      ]
     },
     "metadata": {},
     "output_type": "display_data"
    }
   ],
   "source": [
    "# representing the  male count and female count using countplot\n",
    "sns.countplot(x=data['sex'],data=data)\n",
    "plt.show()"
   ]
  },
  {
   "cell_type": "code",
   "execution_count": 106,
   "id": "00c7930e",
   "metadata": {},
   "outputs": [
    {
     "name": "stdout",
     "output_type": "stream",
     "text": [
      "P_value= 0.0\n",
      "We reject the null Hypothesis that there is no difference in proportion of males and females\n"
     ]
    }
   ],
   "source": [
    "#performing the proportions_ztest to get the p_value\n",
    "alpha=0.05\n",
    "z_stat, p_value2 = proportions_ztest(proportion,total_count,alpha)\n",
    "\n",
    "print(\"P_value=\",p_value2)\n",
    "\n",
    "\n",
    "if p_value2 < alpha:\n",
    "    print(\"We reject the null Hypothesis that there is no difference in proportion of males and females\")\n",
    "else:\n",
    "    print(\"We fail to reject the null Hypothesis that  there is no difference in proportion of males and females\")"
   ]
  }
 ],
 "metadata": {
  "kernelspec": {
   "display_name": "Python 3 (ipykernel)",
   "language": "python",
   "name": "python3"
  },
  "language_info": {
   "codemirror_mode": {
    "name": "ipython",
    "version": 3
   },
   "file_extension": ".py",
   "mimetype": "text/x-python",
   "name": "python",
   "nbconvert_exporter": "python",
   "pygments_lexer": "ipython3",
   "version": "3.11.5"
  }
 },
 "nbformat": 4,
 "nbformat_minor": 5
}
